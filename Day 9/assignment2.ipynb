{
  "nbformat": 4,
  "nbformat_minor": 0,
  "metadata": {
    "colab": {
      "name": "assignment2.ipynb",
      "provenance": [],
      "collapsed_sections": [],
      "authorship_tag": "ABX9TyOW148AHR0VJ9gT+7Awvjpc",
      "include_colab_link": true
    },
    "kernelspec": {
      "name": "python3",
      "display_name": "Python 3"
    }
  },
  "cells": [
    {
      "cell_type": "markdown",
      "metadata": {
        "id": "view-in-github",
        "colab_type": "text"
      },
      "source": [
        "<a href=\"https://colab.research.google.com/github/IronStark007/LetsUpgrade-Python-Essentials/blob/master/Day%209/assignment2.ipynb\" target=\"_parent\"><img src=\"https://colab.research.google.com/assets/colab-badge.svg\" alt=\"Open In Colab\"/></a>"
      ]
    },
    {
      "cell_type": "markdown",
      "metadata": {
        "id": "RSXm3S2gXcWq",
        "colab_type": "text"
      },
      "source": [
        "#Day 9 Assignment 2"
      ]
    },
    {
      "cell_type": "markdown",
      "metadata": {
        "id": "TtEwjlQmXbSF",
        "colab_type": "text"
      },
      "source": [
        "Name:- Ansari Mohammed Ali Nasim\n",
        "\n",
        "Date:-11/09/2020\n",
        "\n",
        "Purpose:- Python Essentials-Batch 7 Day 9 Assignment 2\n",
        "\n",
        "Problem Statement:-Make a small generator program for returning\n",
        "armstrong numbers in between 1-1000 in a generator object."
      ]
    },
    {
      "cell_type": "code",
      "metadata": {
        "id": "QktzD-6HYWcY",
        "colab_type": "code",
        "colab": {
          "base_uri": "https://localhost:8080/",
          "height": 34
        },
        "outputId": "fa05400a-58bc-43a4-8ca2-ac8fe0e8778d"
      },
      "source": [
        "def armstrong(size):\n",
        "    for number in range(size):\n",
        "        l = len(str(number))\n",
        "        s = 0\n",
        "        i = number\n",
        "        while i > 0:\n",
        "            no = i % 10\n",
        "            s += no ** l\n",
        "            i //= 10\n",
        "        if number == s:\n",
        "            yield number\n",
        "        else:\n",
        "            continue\n",
        "\n",
        "\n",
        "print(list(armstrong(1000)))\n"
      ],
      "execution_count": 5,
      "outputs": [
        {
          "output_type": "stream",
          "text": [
            "[0, 1, 2, 3, 4, 5, 6, 7, 8, 9, 153, 370, 371, 407]\n"
          ],
          "name": "stdout"
        }
      ]
    }
  ]
}