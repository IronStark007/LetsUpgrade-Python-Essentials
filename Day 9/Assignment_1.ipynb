{
  "nbformat": 4,
  "nbformat_minor": 0,
  "metadata": {
    "colab": {
      "name": "Day 9 Assignment 1.ipynb",
      "provenance": [],
      "authorship_tag": "ABX9TyOvK3Z1JvKhPniCV2Wz1iNa",
      "include_colab_link": true
    },
    "kernelspec": {
      "name": "python3",
      "display_name": "Python 3"
    }
  },
  "cells": [
    {
      "cell_type": "markdown",
      "metadata": {
        "id": "view-in-github",
        "colab_type": "text"
      },
      "source": [
        "<a href=\"https://colab.research.google.com/github/IronStark007/LetsUpgrade-Python-Essentials/blob/master/Day%209/Assignment_1.ipynb\" target=\"_parent\"><img src=\"https://colab.research.google.com/assets/colab-badge.svg\" alt=\"Open In Colab\"/></a>"
      ]
    },
    {
      "cell_type": "markdown",
      "metadata": {
        "id": "KWA1Il6ZIjvA",
        "colab_type": "text"
      },
      "source": [
        "# Day 9 Assignment **1**"
      ]
    },
    {
      "cell_type": "markdown",
      "metadata": {
        "id": "YpiLe8M-KfHM",
        "colab_type": "text"
      },
      "source": [
        "Name:- Ansari Mohammed Ali Nasim\n",
        "\n",
        "Date:-11/09/2020\n",
        "\n",
        "Purpose:- Python Essentials-Batch 7 Day 9 Assignment 2\n",
        "\n",
        "Problem Statement:- Write a python Function for finding is a given\n",
        "\n",
        "number prime or not and do Unit Testing on it using\n",
        "\n",
        "PyLint and Unittest Library."
      ]
    },
    {
      "cell_type": "markdown",
      "metadata": {
        "id": "ZmICZiXoLD6V",
        "colab_type": "text"
      },
      "source": [
        "1) Using Pylint"
      ]
    },
    {
      "cell_type": "code",
      "metadata": {
        "id": "CCNHgcuRIgW9",
        "colab_type": "code",
        "colab": {
          "base_uri": "https://localhost:8080/",
          "height": 34
        },
        "outputId": "63bb2222-1b99-48a4-8376-9f741772c583"
      },
      "source": [
        "%%writefile checkisprime.py\n",
        "'''\n",
        "A file to check prime number\n",
        "'''\n",
        "A = int(input(\"Enter number:\\n\"))\n",
        "def checkprime(num):\n",
        "    '''\n",
        "    A function to check whether the entered number is prime or not\n",
        "    '''\n",
        "    prime = 1\n",
        "    for i in range(2, num):\n",
        "        if num % i == 0:\n",
        "            prime = 0\n",
        "            return False\n",
        "    if prime == 1:\n",
        "        pass\n",
        "    return True\n",
        "\n",
        "checkprime(A)\n",
        "\n"
      ],
      "execution_count": 70,
      "outputs": [
        {
          "output_type": "stream",
          "text": [
            "Overwriting checkisprime.py\n"
          ],
          "name": "stdout"
        }
      ]
    },
    {
      "cell_type": "code",
      "metadata": {
        "id": "cIYEagzKJPcE",
        "colab_type": "code",
        "colab": {
          "base_uri": "https://localhost:8080/",
          "height": 84
        },
        "outputId": "850e8f5e-067d-4c5b-c487-0d02b6c08b84"
      },
      "source": [
        "! pylint \"checkisprime.py\""
      ],
      "execution_count": 66,
      "outputs": [
        {
          "output_type": "stream",
          "text": [
            "\n",
            "--------------------------------------------------------------------\n",
            "Your code has been rated at 10.00/10 (previous run: 10.00/10, +0.00)\n",
            "\n"
          ],
          "name": "stdout"
        }
      ]
    },
    {
      "cell_type": "markdown",
      "metadata": {
        "id": "sru5b1UhLNkC",
        "colab_type": "text"
      },
      "source": [
        "2)using unittest"
      ]
    },
    {
      "cell_type": "code",
      "metadata": {
        "id": "HDGD7NbtLBsM",
        "colab_type": "code",
        "colab": {
          "base_uri": "https://localhost:8080/",
          "height": 67
        },
        "outputId": "e4dc5ee5-ddca-4029-90e0-fc668845a54e"
      },
      "source": [
        "import checkisprime\n",
        "\n",
        "checkisprime.checkprime(int(input(\"Enter number:\\n\")))\n"
      ],
      "execution_count": 71,
      "outputs": [
        {
          "output_type": "stream",
          "text": [
            "Enter number:\n",
            "31\n"
          ],
          "name": "stdout"
        },
        {
          "output_type": "execute_result",
          "data": {
            "text/plain": [
              "True"
            ]
          },
          "metadata": {
            "tags": []
          },
          "execution_count": 71
        }
      ]
    },
    {
      "cell_type": "code",
      "metadata": {
        "id": "kA5UD3ZLPHM7",
        "colab_type": "code",
        "colab": {
          "base_uri": "https://localhost:8080/",
          "height": 34
        },
        "outputId": "c1f01377-3e9a-4bdf-99e0-246a2dc0e8f6"
      },
      "source": [
        "%%writefile testprime.py\n",
        "import unittest\n",
        "import checkisprime\n",
        "\n",
        "class testprimenum(unittest.TestCase):\n",
        "  def testingonenum(self):\n",
        "    a = 71\n",
        "    result = checkisprime.checkprime(a)\n",
        "    self.assertTrue(result)\n",
        "\n",
        "if __name__==\"__main__\":\n",
        "  unittest.main()\n"
      ],
      "execution_count": 78,
      "outputs": [
        {
          "output_type": "stream",
          "text": [
            "Overwriting testprime.py\n"
          ],
          "name": "stdout"
        }
      ]
    },
    {
      "cell_type": "code",
      "metadata": {
        "id": "b_vfdx8gRH4_",
        "colab_type": "code",
        "colab": {
          "base_uri": "https://localhost:8080/",
          "height": 134
        },
        "outputId": "f4047309-64e6-4438-a423-35ef05c6d962"
      },
      "source": [
        "! python testprime.py"
      ],
      "execution_count": 79,
      "outputs": [
        {
          "output_type": "stream",
          "text": [
            "Enter number:\n",
            "45\n",
            ".\n",
            "----------------------------------------------------------------------\n",
            "Ran 1 test in 0.000s\n",
            "\n",
            "OK\n"
          ],
          "name": "stdout"
        }
      ]
    }
  ]
}
