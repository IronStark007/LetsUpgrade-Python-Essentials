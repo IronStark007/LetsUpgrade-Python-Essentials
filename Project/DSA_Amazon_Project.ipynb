{
  "nbformat": 4,
  "nbformat_minor": 0,
  "metadata": {
    "colab": {
      "name": "DSA Amazon Project",
      "provenance": [],
      "authorship_tag": "ABX9TyMJFkiYcQRrahpkqpGLV/Dt",
      "include_colab_link": true
    },
    "kernelspec": {
      "name": "python3",
      "display_name": "Python 3"
    },
    "language_info": {
      "name": "python"
    }
  },
  "cells": [
    {
      "cell_type": "markdown",
      "metadata": {
        "id": "view-in-github",
        "colab_type": "text"
      },
      "source": [
        "<a href=\"https://colab.research.google.com/github/IronStark007/LetsUpgrade-Python-Essentials/blob/master/Project/DSA_Amazon_Project.ipynb\" target=\"_parent\"><img src=\"https://colab.research.google.com/assets/colab-badge.svg\" alt=\"Open In Colab\"/></a>"
      ]
    },
    {
      "cell_type": "markdown",
      "metadata": {
        "id": "jIIGBlzOJTLb"
      },
      "source": [
        "# DSA AMAZON PROJECT\n",
        "### Author - Ansari Mohammed Ali Nasim"
      ]
    },
    {
      "cell_type": "code",
      "metadata": {
        "id": "JJtawY7BJPxE"
      },
      "source": [
        "#importing libraries\n",
        "import string\n",
        "import random"
      ],
      "execution_count": 1,
      "outputs": []
    },
    {
      "cell_type": "code",
      "metadata": {
        "id": "cFkrUXfwJ0AX"
      },
      "source": [
        "#generating random IDS\n",
        "def generate_ID():\n",
        "  tokens=list(string.ascii_letters+string.digits)\n",
        "  uid=''\n",
        "  i=0\n",
        "  while i<=6:\n",
        "    uid+=random.choice(tokens)\n",
        "    i+=1\n",
        "  return uid"
      ],
      "execution_count": 2,
      "outputs": []
    },
    {
      "cell_type": "code",
      "metadata": {
        "colab": {
          "base_uri": "https://localhost:8080/",
          "height": 35
        },
        "id": "SbtL1H8FKZMh",
        "outputId": "63f00dc5-4e25-4979-f894-ecbf8db46584"
      },
      "source": [
        "#callin the above function\n",
        "generate_ID()"
      ],
      "execution_count": 3,
      "outputs": [
        {
          "output_type": "execute_result",
          "data": {
            "application/vnd.google.colaboratory.intrinsic+json": {
              "type": "string"
            },
            "text/plain": [
              "'SsPz6fH'"
            ]
          },
          "metadata": {
            "tags": []
          },
          "execution_count": 3
        }
      ]
    },
    {
      "cell_type": "code",
      "metadata": {
        "id": "wPJMdh6dN_9s"
      },
      "source": [
        "#for proirotizing the prime members\n",
        "user_list=[]\n",
        "def find_user_pos(new_user):\n",
        "  user_count=len(user_list)\n",
        "  pos=0\n",
        "  for i in range(user_count):\n",
        "    if user_list[i].isprime<=new_user.isprime:\n",
        "      pos+=1\n",
        "  return pos"
      ],
      "execution_count": 4,
      "outputs": []
    },
    {
      "cell_type": "code",
      "metadata": {
        "colab": {
          "base_uri": "https://localhost:8080/"
        },
        "id": "nrVjfnXeKjza",
        "outputId": "55548c22-afbc-417a-94db-a73f85f688a6"
      },
      "source": [
        "# main class\n",
        "class Amazon:\n",
        "  def __init__(self):\n",
        "    self.id=None\n",
        "    self.name=None\n",
        "    self.email=None\n",
        "    self.order_cart=None\n",
        "    self.isprime=1\n",
        "\n",
        "  def buy_prime(self):\n",
        "    self.isprime=0\n",
        "    return \n",
        "\n",
        "  def get_detials(self):\n",
        "    self.id=generate_ID()\n",
        "    self.name=input('Enter your name:')\n",
        "    self.email=input('Enter your email:')\n",
        "  \n",
        "  def buy_items(self):\n",
        "    self.order_cart=[i for i in input().split(',')]\n",
        "\n",
        "if __name__==\"__main__\":\n",
        "  ch='y'\n",
        "  while ch=='y':\n",
        "    new_user=Amazon()\n",
        "    new_user.get_detials()\n",
        "    op=input('Do you want to order something\\n(Type y for Yes,n for No):')\n",
        "    if op.lower()==\"y\":\n",
        "      print('Add the items:')\n",
        "      new_user.buy_items()\n",
        "    op=input(\"Do you want a prime membership\\n(Type y for Yes,n for No):\")\n",
        "    if op.lower()==\"y\":\n",
        "      new_user.buy_prime()\n",
        "      print('Prime member succesful')\n",
        "    pos=find_user_pos(new_user)\n",
        "    user_list.insert(pos,new_user)\n",
        "    ch=input('Want to add more users\\n(Type y for Yes):').lower()\n",
        "    "
      ],
      "execution_count": 5,
      "outputs": [
        {
          "output_type": "stream",
          "text": [
            "Enter your name:ali\n",
            "Enter your email:ali@gmail.com\n",
            "Do you want to order something\n",
            "(Type y for Yes,n for No):y\n",
            "Add the items:\n",
            "watch,glasses\n",
            "Do you want a prime membership\n",
            "(Type y for Yes,n for No):n\n",
            "Want to add more users\n",
            "(Type y for Yes):y\n",
            "Enter your name:mohd\n",
            "Enter your email:modh@gmail.com\n",
            "Do you want to order something\n",
            "(Type y for Yes,n for No):y\n",
            "Add the items:\n",
            "mobile, cases\n",
            "Do you want a prime membership\n",
            "(Type y for Yes,n for No):y\n",
            "Prime member succesful\n",
            "Want to add more users\n",
            "(Type y for Yes):y\n",
            "Enter your name:ansari\n",
            "Enter your email:ansari@gmail.com\n",
            "Do you want to order something\n",
            "(Type y for Yes,n for No):y\n",
            "Add the items:\n",
            "suitcase\n",
            "Do you want a prime membership\n",
            "(Type y for Yes,n for No):n\n",
            "Want to add more users\n",
            "(Type y for Yes):y\n",
            "Enter your name:nasim\n",
            "Enter your email:nasim@gmail.com\n",
            "Do you want to order something\n",
            "(Type y for Yes,n for No):y\n",
            "Add the items:\n",
            "book, pen\n",
            "Do you want a prime membership\n",
            "(Type y for Yes,n for No):y\n",
            "Prime member succesful\n",
            "Want to add more users\n",
            "(Type y for Yes):n\n"
          ],
          "name": "stdout"
        }
      ]
    },
    {
      "cell_type": "code",
      "metadata": {
        "colab": {
          "base_uri": "https://localhost:8080/"
        },
        "id": "LB8tbhg4QkgG",
        "outputId": "d314c535-d4c9-4268-b70d-e033c8a823e7"
      },
      "source": [
        "#feteching the result\n",
        "for idx,ele in enumerate(user_list):\n",
        "  print(f\"Dear {ele.name}, Your order has to be placed {idx+1}\")"
      ],
      "execution_count": 8,
      "outputs": [
        {
          "output_type": "stream",
          "text": [
            "Dear mohd, Your order has to be placed 1\n",
            "Dear nasim, Your order has to be placed 2\n",
            "Dear ali, Your order has to be placed 3\n",
            "Dear ansari, Your order has to be placed 4\n"
          ],
          "name": "stdout"
        }
      ]
    },
    {
      "cell_type": "markdown",
      "metadata": {
        "id": "ANkAKD-gSO2V"
      },
      "source": [
        "### Thank You"
      ]
    }
  ]
}